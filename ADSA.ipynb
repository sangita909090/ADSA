{
  "cells": [
    {
      "cell_type": "markdown",
      "metadata": {
        "id": "view-in-github",
        "colab_type": "text"
      },
      "source": [
        "<a href=\"https://colab.research.google.com/github/sangita909090/ADSA/blob/main/ADSA.ipynb\" target=\"_parent\"><img src=\"https://colab.research.google.com/assets/colab-badge.svg\" alt=\"Open In Colab\"/></a>"
      ]
    },
    {
      "cell_type": "code",
      "source": [
        "import array as ar\n",
        "x=ar.array('i',[3,5,2,7,8,4,5])\n",
        "x_sum=sum(x)\n",
        "print(\"sum:\",x_sum)\n",
        "length=len(x)\n",
        "average=x_sum/length\n",
        "print(\"Average:\",average)"
      ],
      "metadata": {
        "id": "E-pA17acMNOG",
        "outputId": "531a4a02-9500-4b78-8b17-5ecced5746f7",
        "colab": {
          "base_uri": "https://localhost:8080/"
        }
      },
      "execution_count": null,
      "outputs": [
        {
          "output_type": "stream",
          "name": "stdout",
          "text": [
            "sum: 34\n",
            "Average: 4.857142857142857\n"
          ]
        }
      ]
    },
    {
      "cell_type": "code",
      "source": [
        "import numpy as np\n",
        "x=np.array([3,5,2,7,8,4,5])\n",
        "x_sum=sum(x)\n",
        "print(\"sum:\",x_sum)\n",
        "length=len(x)\n",
        "average=x_sum/length\n",
        "print(\"Average:\",average)"
      ],
      "metadata": {
        "id": "nWWE_M4UM0Lj",
        "outputId": "a13dd65d-65a8-4f5a-cd49-c78d7509e849",
        "colab": {
          "base_uri": "https://localhost:8080/"
        }
      },
      "execution_count": null,
      "outputs": [
        {
          "output_type": "stream",
          "name": "stdout",
          "text": [
            "sum: 34\n",
            "Average: 4.857142857142857\n"
          ]
        }
      ]
    },
    {
      "cell_type": "markdown",
      "source": [
        "#\n",
        "Slicing method\n"
      ],
      "metadata": {
        "id": "QGvGZ17FRUHC"
      }
    },
    {
      "cell_type": "code",
      "source": [
        "import numpy as np\n",
        "x=np.array([3,5,2,7,8,4,5])\n",
        "type(x)\n",
        "print(x[::-1]) #slicing method"
      ],
      "metadata": {
        "id": "pF6Rxy33Otaw",
        "outputId": "30d4a66d-4084-4502-d592-d2bf695b3251",
        "colab": {
          "base_uri": "https://localhost:8080/"
        }
      },
      "execution_count": null,
      "outputs": [
        {
          "output_type": "stream",
          "name": "stdout",
          "text": [
            "[5 4 8 7 2 5 3]\n"
          ]
        }
      ]
    },
    {
      "cell_type": "markdown",
      "source": [
        "#use looping\n"
      ],
      "metadata": {
        "id": "V4dsNLexRPz5"
      }
    },
    {
      "cell_type": "code",
      "source": [
        "import numpy as np\n",
        "x=np.array([3,5,2,7,8,4,5])\n",
        "type(x)\n",
        "n=len(x)\n",
        "new_arr=[]\n",
        "for i in range(n-1,-1,-1):\n",
        "    new_arr.append(x[i])\n",
        "print(new_arr)"
      ],
      "metadata": {
        "id": "DIDKvCIiPG5Z",
        "outputId": "0893c039-3f92-4c44-9547-d09ff625ea9a",
        "colab": {
          "base_uri": "https://localhost:8080/"
        }
      },
      "execution_count": null,
      "outputs": [
        {
          "output_type": "stream",
          "name": "stdout",
          "text": [
            "[5, 4, 8, 7, 2, 5, 3]\n"
          ]
        }
      ]
    },
    {
      "cell_type": "markdown",
      "source": [
        "#\n",
        "Write a function to remove duplicates from an array and return the result as a new array.\n",
        "\n",
        "\n",
        "\n"
      ],
      "metadata": {
        "id": "k0iFKPfIRj7A"
      }
    },
    {
      "cell_type": "code",
      "source": [
        "import numpy as np\n",
        "\n",
        "x=np.array([3,5,2,7,8,4,5])\n",
        "type(x)\n",
        "\n",
        "def remove_duplicates(x):\n",
        "  new_arr=[]\n",
        "  for i in x:\n",
        "     if i not in new_arr:\n",
        "        new_arr.append(i)\n",
        "\n",
        "     return new_arr\n",
        "\n",
        "result=remove_duplicates(x)\n",
        "print(result)"
      ],
      "metadata": {
        "id": "m1unP0V_RNE6",
        "outputId": "932ce855-50b8-4c09-8b37-68887a380e44",
        "colab": {
          "base_uri": "https://localhost:8080/"
        }
      },
      "execution_count": null,
      "outputs": [
        {
          "output_type": "stream",
          "name": "stdout",
          "text": [
            "[3]\n"
          ]
        }
      ]
    },
    {
      "cell_type": "markdown",
      "source": [
        "#use type conversion\n"
      ],
      "metadata": {
        "id": "ubBhlP3tUsHM"
      }
    },
    {
      "cell_type": "code",
      "source": [
        "import numpy as np\n",
        "\n",
        "x=np.array([3,5,2,7,8,4,5])\n",
        "type(x)\n",
        "\n",
        "def remove_duplicates(x):\n",
        "  unique_element=list(set(x))\n",
        "  return np.array(unique_element)\n",
        "\n",
        "result=remove_duplicates(x)\n",
        "print(result)"
      ],
      "metadata": {
        "id": "vFr4hB7hTGC7",
        "outputId": "12f83a4e-260b-4f71-ef13-ffaa094c7f2e",
        "colab": {
          "base_uri": "https://localhost:8080/"
        }
      },
      "execution_count": null,
      "outputs": [
        {
          "output_type": "stream",
          "name": "stdout",
          "text": [
            "[2 3 4 5 7 8]\n"
          ]
        }
      ]
    },
    {
      "cell_type": "markdown",
      "source": [
        "Write a function that takes an array and an element as input,and returns the index of the element in the array.\n",
        "If the element is not found,it should return -1.\n"
      ],
      "metadata": {
        "id": "4ntCJQZiVv4L"
      }
    },
    {
      "cell_type": "code",
      "source": [],
      "metadata": {
        "id": "AoPQycgRVLGo"
      },
      "execution_count": null,
      "outputs": []
    }
  ],
  "metadata": {
    "colab": {
      "toc_visible": true,
      "provenance": [],
      "include_colab_link": true
    },
    "kernelspec": {
      "display_name": "Python 3",
      "name": "python3"
    }
  },
  "nbformat": 4,
  "nbformat_minor": 0
}